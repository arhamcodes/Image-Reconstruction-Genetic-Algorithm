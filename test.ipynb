{
 "cells": [
  {
   "cell_type": "code",
   "execution_count": null,
   "metadata": {},
   "outputs": [],
   "source": [
    "import numpy as np\n",
    "import matplotlib.pyplot as plt\n",
    "import random\n",
    "import cv2"
   ]
  },
  {
   "cell_type": "code",
   "execution_count": null,
   "metadata": {},
   "outputs": [],
   "source": [
    "target_image = cv2.imread('BU.png', cv2.IMREAD_COLOR)\n",
    "target_image = cv2.resize(target_image, (96, 96)) \n",
    "plt.imshow(cv2.cvtColor(target_image, cv2.COLOR_BGR2RGB))\n",
    "plt.show()\n",
    "target_shape = target_image.shape"
   ]
  },
  {
   "cell_type": "code",
   "execution_count": null,
   "metadata": {},
   "outputs": [],
   "source": [
    "def create_individual(shape, target=None, guided=False):\n",
    "    if guided and target is not None:\n",
    "        individual = np.copy(target)\n",
    "        perturbation = np.random.randint(-50, 50, shape, dtype=np.int32)\n",
    "        individual = np.clip(individual + perturbation, 0, 255).astype(np.uint8)\n",
    "    else:\n",
    "        individual = np.random.randint(0, 256, shape, dtype=np.uint8)\n",
    "    return individual\n",
    "\n",
    "def create_population(pop_size, shape, target=None):\n",
    "    population = []\n",
    "    guided_proportion = 0.25 \n",
    "    guided_count = int(pop_size * guided_proportion)\n",
    "    \n",
    "    for _ in range(guided_count):\n",
    "        population.append(create_individual(shape, target=target, guided=True))\n",
    "    \n",
    "    for _ in range(pop_size - guided_count):\n",
    "        population.append(create_individual(shape))\n",
    "    \n",
    "    return population"
   ]
  },
  {
   "cell_type": "code",
   "execution_count": null,
   "metadata": {},
   "outputs": [],
   "source": [
    "def calculate_fitness(individual, target):\n",
    "    return np.mean(np.abs(individual - target))"
   ]
  },
  {
   "cell_type": "code",
   "execution_count": null,
   "metadata": {},
   "outputs": [],
   "source": [
    "def tournament_selection(population, fitnesses, k=3):\n",
    "    selected = random.choices(list(zip(population, fitnesses)), k=k)\n",
    "    selected.sort(key=lambda x: x[1]) \n",
    "    return selected[0][0]"
   ]
  },
  {
   "cell_type": "code",
   "execution_count": null,
   "metadata": {},
   "outputs": [],
   "source": [
    "def crossover(parent1, parent2):\n",
    "    crossover_point = random.randint(0, parent1.size)\n",
    "    flat1, flat2 = parent1.flatten(), parent2.flatten()\n",
    "    child_flat = np.concatenate((flat1[:crossover_point], flat2[crossover_point:]))\n",
    "    return child_flat.reshape(parent1.shape)"
   ]
  },
  {
   "cell_type": "code",
   "execution_count": null,
   "metadata": {},
   "outputs": [],
   "source": [
    "def mutate(individual, mutation_rate):\n",
    "    num_mutations = int(mutation_rate * individual.size)\n",
    "    for _ in range(num_mutations):\n",
    "        x, y, c = random.randint(0, individual.shape[0] - 1), random.randint(0, individual.shape[1] - 1), random.randint(0, 2)\n",
    "        individual[x, y, c] = random.randint(0, 255)\n",
    "    return individual\n",
    "\n",
    "def calculate_mutation_rate(initial_rate, final_rate, current_gen, max_gen=None):\n",
    "    if max_gen is None:\n",
    "        decay_rate = (final_rate / initial_rate) ** (1 / current_gen)\n",
    "    else:\n",
    "        decay_rate = (final_rate / initial_rate) ** (1 / max_gen)\n",
    "    return initial_rate * (decay_rate ** current_gen)"
   ]
  },
  {
   "cell_type": "code",
   "execution_count": null,
   "metadata": {},
   "outputs": [],
   "source": [
    "def introduce_random_immigrants(population, shape, num_immigrants):\n",
    "    for _ in range(num_immigrants):\n",
    "        population[random.randint(0, len(population) - 1)] = create_individual(shape)"
   ]
  },
  {
   "cell_type": "code",
   "execution_count": null,
   "metadata": {},
   "outputs": [],
   "source": [
    "def genetic_algorithm(target_image, pop_size=5, initial_mutation_rate=0.0001, final_mutation_rate=0.0001, elitism=3):\n",
    "    population = create_population(pop_size, target_image.shape)\n",
    "    best_fitness = float('inf')\n",
    "    best_individual = None\n",
    "    generation = 0\n",
    "\n",
    "    while best_fitness > 5: \n",
    "        fitnesses = [calculate_fitness(ind, target_image) for ind in population]\n",
    "\n",
    "        sorted_population = [ind for _, ind in sorted(zip(fitnesses, population), key=lambda x: x[0])]\n",
    "\n",
    "        new_population = sorted_population[:elitism]\n",
    "\n",
    "        while len(new_population) < pop_size:\n",
    "            parent1 = tournament_selection(population, fitnesses)\n",
    "            parent2 = tournament_selection(population, fitnesses)\n",
    "            child = crossover(parent1, parent2)\n",
    "            \n",
    "            mutation_rate = calculate_mutation_rate(initial_mutation_rate, final_mutation_rate, generation, pop_size)\n",
    "            \n",
    "            child = mutate(child, mutation_rate)\n",
    "            new_population.append(child)\n",
    "        \n",
    "        if generation % 50 == 0:\n",
    "            introduce_random_immigrants(new_population, target_image.shape, num_immigrants=pop_size // 10)\n",
    "\n",
    "        population = new_population\n",
    "\n",
    "        current_best_fitness = min(fitnesses)\n",
    "        if current_best_fitness < best_fitness:\n",
    "            best_fitness = current_best_fitness\n",
    "            best_individual = population[fitnesses.index(current_best_fitness)]\n",
    "\n",
    "        if generation % 100 == 0:\n",
    "            print(f'Generation {generation}, Best Fitness: {best_fitness}')\n",
    "            #*****************UNCOMMIT FOR VISUALIZATION IN SEPERATE WINDOW REAL TIME********************\n",
    "            #cv2.namedWindow('Reconstructed Image', cv2.WINDOW_NORMAL)\n",
    "            #cv2.resizeWindow('Reconstructed Image', 512, 512)\n",
    "            #cv2.imshow('Reconstructed Image', best_individual)\n",
    "            #if cv2.waitKey(1) & 0xFF == ord('q'):\n",
    "            #    break\n",
    "        \n",
    "        generation += 1\n",
    "\n",
    "    return best_individual\n",
    "\n",
    "reconstructed_image = genetic_algorithm(target_image, elitism=2)\n",
    "plt.imshow(cv2.cvtColor(reconstructed_image, cv2.COLOR_BGR2RGB))\n",
    "plt.title('Reconstructed Image')\n",
    "plt.show()\n",
    "plt.imshow(cv2.cvtColor(target_image, cv2.COLOR_BGR2RGB))\n",
    "plt.title('Target Image')\n",
    "plt.show()"
   ]
  },
  {
   "cell_type": "code",
   "execution_count": null,
   "metadata": {},
   "outputs": [],
   "source": []
  }
 ],
 "metadata": {
  "kernelspec": {
   "display_name": ".venv",
   "language": "python",
   "name": "python3"
  },
  "language_info": {
   "codemirror_mode": {
    "name": "ipython",
    "version": 3
   },
   "file_extension": ".py",
   "mimetype": "text/x-python",
   "name": "python",
   "nbconvert_exporter": "python",
   "pygments_lexer": "ipython3",
   "version": "3.11.6"
  }
 },
 "nbformat": 4,
 "nbformat_minor": 2
}
